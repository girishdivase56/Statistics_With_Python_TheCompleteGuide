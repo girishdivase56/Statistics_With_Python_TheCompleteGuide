{
 "cells": [
  {
   "cell_type": "markdown",
   "id": "82355af7",
   "metadata": {},
   "source": [
    "## Central Limit Theorem"
   ]
  },
  {
   "cell_type": "code",
   "execution_count": 1,
   "id": "51b65e84",
   "metadata": {},
   "outputs": [],
   "source": [
    "import numpy as np\n",
    "from statistics import mode"
   ]
  },
  {
   "cell_type": "code",
   "execution_count": 2,
   "id": "907fe400",
   "metadata": {},
   "outputs": [],
   "source": [
    "population = np.random.randint(10,20,50)"
   ]
  },
  {
   "cell_type": "code",
   "execution_count": 3,
   "id": "7e67c33d",
   "metadata": {},
   "outputs": [
    {
     "data": {
      "text/plain": [
       "array([18, 14, 18, 12, 16, 10, 17, 13, 13, 12, 15, 12, 14, 15, 12, 18, 15,\n",
       "       16, 10, 17, 16, 19, 12, 15, 10, 16, 17, 19, 14, 18, 14, 15, 13, 10,\n",
       "       17, 14, 15, 15, 15, 11, 10, 10, 19, 16, 10, 15, 19, 15, 18, 13])"
      ]
     },
     "execution_count": 3,
     "metadata": {},
     "output_type": "execute_result"
    }
   ],
   "source": [
    "population"
   ]
  },
  {
   "cell_type": "code",
   "execution_count": 4,
   "id": "1817b1a4",
   "metadata": {},
   "outputs": [
    {
     "data": {
      "text/plain": [
       "14.54"
      ]
     },
     "execution_count": 4,
     "metadata": {},
     "output_type": "execute_result"
    }
   ],
   "source": [
    "np.mean(population)"
   ]
  },
  {
   "cell_type": "code",
   "execution_count": 5,
   "id": "ec3b903a",
   "metadata": {},
   "outputs": [
    {
     "data": {
      "text/plain": [
       "15.0"
      ]
     },
     "execution_count": 5,
     "metadata": {},
     "output_type": "execute_result"
    }
   ],
   "source": [
    "np.median(population)"
   ]
  },
  {
   "cell_type": "code",
   "execution_count": 6,
   "id": "919861e3",
   "metadata": {},
   "outputs": [
    {
     "data": {
      "text/plain": [
       "15"
      ]
     },
     "execution_count": 6,
     "metadata": {},
     "output_type": "execute_result"
    }
   ],
   "source": [
    "mode(population)"
   ]
  },
  {
   "cell_type": "code",
   "execution_count": 7,
   "id": "5b4c8d63",
   "metadata": {},
   "outputs": [
    {
     "name": "stdout",
     "output_type": "stream",
     "text": [
      "Mean Of the Population 14.54\n",
      "Median Of the Population 15.0\n",
      "Mode Of the Population 15\n"
     ]
    }
   ],
   "source": [
    "print(f\"Mean Of the Population {np.mean(population)}\")\n",
    "print(f\"Median Of the Population {np.median(population)}\")\n",
    "print(f\"Mode Of the Population {mode(population)}\")"
   ]
  },
  {
   "cell_type": "code",
   "execution_count": 8,
   "id": "240ad6c0",
   "metadata": {},
   "outputs": [],
   "source": [
    "sample = np.random.choice(population, 20)"
   ]
  },
  {
   "cell_type": "code",
   "execution_count": 9,
   "id": "e3d25a86",
   "metadata": {},
   "outputs": [
    {
     "data": {
      "text/plain": [
       "array([16, 17, 15, 14, 18, 17, 10, 10, 12, 14, 15, 15, 15, 14, 12, 16, 14,\n",
       "       14, 12, 19])"
      ]
     },
     "execution_count": 9,
     "metadata": {},
     "output_type": "execute_result"
    }
   ],
   "source": [
    "sample"
   ]
  },
  {
   "cell_type": "code",
   "execution_count": 10,
   "id": "38340959",
   "metadata": {},
   "outputs": [
    {
     "name": "stdout",
     "output_type": "stream",
     "text": [
      "Mean Of the sample 14.45\n",
      "Median Of the sample 14.5\n",
      "Mode Of the sample 14\n"
     ]
    }
   ],
   "source": [
    "print(f\"Mean Of the sample {np.mean(sample)}\")\n",
    "print(f\"Median Of the sample {np.median(sample)}\")\n",
    "print(f\"Mode Of the sample {mode(sample)}\")"
   ]
  },
  {
   "cell_type": "code",
   "execution_count": 11,
   "id": "9198f2c4",
   "metadata": {},
   "outputs": [],
   "source": [
    "sample1 = np.random.choice(population, 20)\n",
    "sample2 = np.random.choice(population, 20)\n",
    "sample3 = np.random.choice(population, 20)\n",
    "sample4 = np.random.choice(population, 20)"
   ]
  },
  {
   "cell_type": "code",
   "execution_count": 12,
   "id": "3e4e8d71",
   "metadata": {},
   "outputs": [
    {
     "name": "stdout",
     "output_type": "stream",
     "text": [
      "[14 12 17 13 19 17 16 17 15 18 16 13 16 15 12 12 12 16 12 14]\n",
      "============================================================\n",
      "[16 12 15 14 10 13 15 16 19 17 12 13 13 12 16 18 10 15 12 15]\n",
      "============================================================\n",
      "[14 17 16 16 10 10 10 17 14 10 13 14 19 15 19 14 18 18 15 10]\n",
      "============================================================\n",
      "[18 14 10 18 15 12 14 14 18 15 10 14 19 12 19 17 19 14 18 15]\n"
     ]
    }
   ],
   "source": [
    "print(sample1)\n",
    "print(60*\"=\")\n",
    "print(sample2)\n",
    "print(60*\"=\")\n",
    "print(sample3)\n",
    "print(60*\"=\")\n",
    "print(sample4)"
   ]
  },
  {
   "cell_type": "code",
   "execution_count": 13,
   "id": "68c5d0aa",
   "metadata": {},
   "outputs": [],
   "source": [
    "mean_of_samples = []\n",
    "all_sample = [sample1, sample2, sample3, sample4]\n",
    "for sample in all_sample:\n",
    "    mean_of_samples.append(np.mean(sample))"
   ]
  },
  {
   "cell_type": "code",
   "execution_count": 14,
   "id": "2566724d",
   "metadata": {},
   "outputs": [
    {
     "data": {
      "text/plain": [
       "[14.8, 14.15, 14.45, 15.25]"
      ]
     },
     "execution_count": 14,
     "metadata": {},
     "output_type": "execute_result"
    }
   ],
   "source": [
    "mean_of_samples"
   ]
  },
  {
   "cell_type": "markdown",
   "id": "eea01012",
   "metadata": {},
   "source": [
    "## Central Limit Theorem"
   ]
  },
  {
   "cell_type": "code",
   "execution_count": 15,
   "id": "be8e69bb",
   "metadata": {},
   "outputs": [],
   "source": [
    "population = np.random.binomial(10, 0.5, 10000)"
   ]
  },
  {
   "cell_type": "code",
   "execution_count": 16,
   "id": "1ac59452",
   "metadata": {},
   "outputs": [
    {
     "name": "stdout",
     "output_type": "stream",
     "text": [
      "[4 6 5 ... 4 5 6]\n"
     ]
    }
   ],
   "source": [
    "print(population)"
   ]
  },
  {
   "cell_type": "code",
   "execution_count": 17,
   "id": "3c617106",
   "metadata": {},
   "outputs": [
    {
     "data": {
      "text/plain": [
       "10000"
      ]
     },
     "execution_count": 17,
     "metadata": {},
     "output_type": "execute_result"
    }
   ],
   "source": [
    "len(population)"
   ]
  },
  {
   "cell_type": "code",
   "execution_count": 18,
   "id": "b23f45be",
   "metadata": {},
   "outputs": [
    {
     "data": {
      "text/plain": [
       "<AxesSubplot:ylabel='Density'>"
      ]
     },
     "execution_count": 18,
     "metadata": {},
     "output_type": "execute_result"
    },
    {
     "data": {
      "image/png": "[encoded data removed]",
      "text/plain": [
       "<Figure size 432x288 with 1 Axes>"
      ]
     },
     "metadata": {
      "needs_background": "light"
     },
     "output_type": "display_data"
    }
   ],
   "source": [
    "import seaborn as sns\n",
    "import warnings\n",
    "warnings.filterwarnings('ignore')\n",
    "sns.distplot(population)"
   ]
  },
  {
   "cell_type": "code",
   "execution_count": 19,
   "id": "2c10e636",
   "metadata": {},
   "outputs": [
    {
     "data": {
      "text/plain": [
       "3000"
      ]
     },
     "execution_count": 19,
     "metadata": {},
     "output_type": "execute_result"
    }
   ],
   "source": [
    "int(len(population)*0.30)"
   ]
  },
  {
   "cell_type": "code",
   "execution_count": 20,
   "id": "7d7683f9",
   "metadata": {},
   "outputs": [],
   "source": [
    "size = int(len(population)*0.30)"
   ]
  },
  {
   "cell_type": "code",
   "execution_count": 21,
   "id": "1d8ac362",
   "metadata": {},
   "outputs": [],
   "source": [
    "sample_mean = []\n",
    "for i in range(1,31):\n",
    "    sample = np.random.choice(population, size=size)\n",
    "    sample_mean.append(np.mean(sample))"
   ]
  },
  {
   "cell_type": "code",
   "execution_count": 22,
   "id": "ed08dab4",
   "metadata": {},
   "outputs": [
    {
     "data": {
      "text/plain": [
       "[5.033666666666667,\n",
       " 5.029333333333334,\n",
       " 5.015666666666666,\n",
       " 4.988666666666667,\n",
       " 4.945666666666667,\n",
       " 4.999666666666666,\n",
       " 5.017333333333333,\n",
       " 4.987666666666667,\n",
       " 5.004666666666667,\n",
       " 5.063666666666666,\n",
       " 4.996666666666667,\n",
       " 5.062,\n",
       " 5.022,\n",
       " 4.925666666666666,\n",
       " 5.008333333333334,\n",
       " 5.003,\n",
       " 4.9976666666666665,\n",
       " 5.001333333333333,\n",
       " 5.0473333333333334,\n",
       " 5.0136666666666665,\n",
       " 5.019666666666667,\n",
       " 5.001666666666667,\n",
       " 4.987,\n",
       " 5.045,\n",
       " 5.009333333333333,\n",
       " 5.033666666666667,\n",
       " 4.978666666666666,\n",
       " 5.057666666666667,\n",
       " 5.001333333333333,\n",
       " 4.981]"
      ]
     },
     "execution_count": 22,
     "metadata": {},
     "output_type": "execute_result"
    }
   ],
   "source": [
    "sample_mean"
   ]
  },
  {
   "cell_type": "code",
   "execution_count": 23,
   "id": "1f78209c",
   "metadata": {},
   "outputs": [
    {
     "data": {
      "text/plain": [
       "<AxesSubplot:ylabel='Density'>"
      ]
     },
     "execution_count": 23,
     "metadata": {},
     "output_type": "execute_result"
    },
    {
     "data": {
      "image/png": "[encoded data removed]",
      "text/plain": [
       "<Figure size 432x288 with 1 Axes>"
      ]
     },
     "metadata": {
      "needs_background": "light"
     },
     "output_type": "display_data"
    }
   ],
   "source": [
    "sns.distplot(sample_mean)"
   ]
  },
  {
   "cell_type": "code",
   "execution_count": 24,
   "id": "8a9cbe5d",
   "metadata": {},
   "outputs": [],
   "source": [
    "sample_mean = []\n",
    "for i in range(1,100):\n",
    "    sample = np.random.choice(population, size=size)\n",
    "    sample_mean.append(np.mean(sample))"
   ]
  },
  {
   "cell_type": "code",
   "execution_count": 25,
   "id": "1fb2b2d6",
   "metadata": {},
   "outputs": [
    {
     "data": {
      "text/plain": [
       "<AxesSubplot:ylabel='Density'>"
      ]
     },
     "execution_count": 25,
     "metadata": {},
     "output_type": "execute_result"
    },
    {
     "data": {
      "image/png": "[encoded data removed]",
      "text/plain": [
       "<Figure size 432x288 with 1 Axes>"
      ]
     },
     "metadata": {
      "needs_background": "light"
     },
     "output_type": "display_data"
    }
   ],
   "source": [
    "sns.distplot(sample_mean)"
   ]
  },
  {
   "cell_type": "code",
   "execution_count": 26,
   "id": "8331d87f",
   "metadata": {},
   "outputs": [],
   "source": [
    "sample_mean = []\n",
    "for i in range(1,500):\n",
    "    sample = np.random.choice(population, size=size)\n",
    "    sample_mean.append(np.mean(sample))"
   ]
  },
  {
   "cell_type": "code",
   "execution_count": 27,
   "id": "95489102",
   "metadata": {},
   "outputs": [
    {
     "data": {
      "text/plain": [
       "<AxesSubplot:ylabel='Density'>"
      ]
     },
     "execution_count": 27,
     "metadata": {},
     "output_type": "execute_result"
    },
    {
     "data": {
      "image/png": "[encoded data removed]",
      "text/plain": [
       "<Figure size 432x288 with 1 Axes>"
      ]
     },
     "metadata": {
      "needs_background": "light"
     },
     "output_type": "display_data"
    }
   ],
   "source": [
    "sns.distplot(sample_mean, kde=True, color='red')"
   ]
  },
  {
   "cell_type": "code",
   "execution_count": 28,
   "id": "fbf01d33",
   "metadata": {},
   "outputs": [],
   "source": [
    "sample_mean = []\n",
    "for i in range(1,1000):\n",
    "    sample = np.random.choice(population, size=size)\n",
    "    sample_mean.append(np.mean(sample))"
   ]
  },
  {
   "cell_type": "code",
   "execution_count": 29,
   "id": "36e09c7f",
   "metadata": {},
   "outputs": [
    {
     "data": {
      "text/plain": [
       "<AxesSubplot:ylabel='Density'>"
      ]
     },
     "execution_count": 29,
     "metadata": {},
     "output_type": "execute_result"
    },
    {
     "data": {
      "image/png": "[encoded data removed]",
      "text/plain": [
       "<Figure size 432x288 with 1 Axes>"
      ]
     },
     "metadata": {
      "needs_background": "light"
     },
     "output_type": "display_data"
    }
   ],
   "source": [
    "sns.distplot(sample_mean, kde=True, color='red')"
   ]
  },
  {
   "cell_type": "markdown",
   "id": "495d66e9",
   "metadata": {},
   "source": [
    "# Ways To Collect Samples\n",
    "### 1. Random Sampling\n",
    "### 2. Startified Sampling\n",
    "### 3. Cluster Sampling\n",
    "### 4. Systematic Sampling"
   ]
  },
  {
   "cell_type": "code",
   "execution_count": 30,
   "id": "291a2a92",
   "metadata": {},
   "outputs": [
    {
     "data": {
      "text/plain": [
       "5.010356022689355"
      ]
     },
     "execution_count": 30,
     "metadata": {},
     "output_type": "execute_result"
    }
   ],
   "source": [
    "np.mean(sample_mean)"
   ]
  },
  {
   "cell_type": "markdown",
   "id": "0ec81028",
   "metadata": {},
   "source": [
    "## Confidence Interval And Margin Of Error"
   ]
  },
  {
   "cell_type": "code",
   "execution_count": 31,
   "id": "acc3fe2b",
   "metadata": {},
   "outputs": [],
   "source": [
    "population = np.random.randint(10,20,50)"
   ]
  },
  {
   "cell_type": "code",
   "execution_count": 32,
   "id": "0da52e77",
   "metadata": {},
   "outputs": [
    {
     "data": {
      "text/plain": [
       "array([10, 14, 19, 10, 14, 16, 12, 12, 14, 13, 10, 18, 15, 10, 17, 14, 10,\n",
       "       17, 11, 14, 13, 11, 11, 17, 16, 15, 11, 10, 18, 18, 12, 15, 14, 16,\n",
       "       16, 16, 14, 12, 11, 18, 18, 18, 19, 14, 14, 19, 13, 15, 13, 10])"
      ]
     },
     "execution_count": 32,
     "metadata": {},
     "output_type": "execute_result"
    }
   ],
   "source": [
    "population"
   ]
  },
  {
   "cell_type": "code",
   "execution_count": 33,
   "id": "f2de0250",
   "metadata": {},
   "outputs": [],
   "source": [
    "sample1 = np.random.choice(population, 20)\n",
    "sample2 = np.random.choice(population, 20)\n",
    "sample3 = np.random.choice(population, 20)\n",
    "sample4 = np.random.choice(population, 20)"
   ]
  },
  {
   "cell_type": "code",
   "execution_count": 34,
   "id": "67eb173f",
   "metadata": {},
   "outputs": [],
   "source": [
    "mean_of_samples = []\n",
    "all_sample = [sample1, sample2, sample3, sample4]\n",
    "for sample in all_sample:\n",
    "    mean_of_samples.append(np.mean(sample))"
   ]
  },
  {
   "cell_type": "code",
   "execution_count": 35,
   "id": "1a23063a",
   "metadata": {},
   "outputs": [
    {
     "data": {
      "text/plain": [
       "[14.1, 14.15, 13.8, 14.0]"
      ]
     },
     "execution_count": 35,
     "metadata": {},
     "output_type": "execute_result"
    }
   ],
   "source": [
    "mean_of_samples"
   ]
  },
  {
   "cell_type": "code",
   "execution_count": 36,
   "id": "18ac1e91",
   "metadata": {},
   "outputs": [],
   "source": [
    "import scipy.stats as stats"
   ]
  },
  {
   "cell_type": "code",
   "execution_count": 37,
   "id": "4a11aaf1",
   "metadata": {},
   "outputs": [],
   "source": [
    "#stats.norm.ppf(q=0.95)\n",
    "#stats.norm.ppf(q=0.975)\n",
    "#stats.norm.ppf(q=0.99)"
   ]
  },
  {
   "cell_type": "code",
   "execution_count": 38,
   "id": "12c26efc",
   "metadata": {},
   "outputs": [],
   "source": [
    "z_critical = stats.norm.ppf(q=0.975)"
   ]
  },
  {
   "cell_type": "code",
   "execution_count": 39,
   "id": "c6257372",
   "metadata": {},
   "outputs": [],
   "source": [
    "t_critical = stats.t.ppf(q=0.975, df=24)"
   ]
  },
  {
   "cell_type": "code",
   "execution_count": 40,
   "id": "71c1122b",
   "metadata": {},
   "outputs": [],
   "source": [
    "margin_of_error = z_critical * (np.std(mean_of_samples)/np.sqrt(20))"
   ]
  },
  {
   "cell_type": "code",
   "execution_count": 41,
   "id": "e7cb6c42",
   "metadata": {},
   "outputs": [
    {
     "data": {
      "text/plain": [
       "13.953752143364907"
      ]
     },
     "execution_count": 41,
     "metadata": {},
     "output_type": "execute_result"
    }
   ],
   "source": [
    "np.mean(mean_of_samples)-margin_of_error"
   ]
  },
  {
   "cell_type": "code",
   "execution_count": 42,
   "id": "047a6b08",
   "metadata": {},
   "outputs": [
    {
     "data": {
      "text/plain": [
       "14.071247856635091"
      ]
     },
     "execution_count": 42,
     "metadata": {},
     "output_type": "execute_result"
    }
   ],
   "source": [
    "np.mean(mean_of_samples)+margin_of_error"
   ]
  },
  {
   "cell_type": "markdown",
   "id": "d201a8aa",
   "metadata": {},
   "source": [
    "# Z-test"
   ]
  },
  {
   "cell_type": "code",
   "execution_count": 50,
   "id": "741d49d2",
   "metadata": {},
   "outputs": [],
   "source": [
    "from numpy.random import randn\n",
    "population = randn(100)"
   ]
  },
  {
   "cell_type": "code",
   "execution_count": 51,
   "id": "b4fca8bf",
   "metadata": {},
   "outputs": [
    {
     "data": {
      "text/plain": [
       "array([-5.92755174e-01,  4.60258980e-01, -4.74695038e-01, -1.11619331e+00,\n",
       "       -2.04638194e+00, -4.43287119e-01,  2.22752200e-01,  6.82347937e-01,\n",
       "        4.79143190e-01, -1.54768075e+00,  5.55448123e-01,  1.55763094e+00,\n",
       "       -1.66903902e+00,  1.80144534e+00,  8.12627246e-02, -7.59693620e-01,\n",
       "       -5.87420984e-01, -1.02523989e+00, -2.81495096e-01,  1.57278215e+00,\n",
       "       -6.21256282e-02, -3.86591674e-01,  1.88829481e-01,  2.65230858e-01,\n",
       "        1.50678751e-01,  8.91232131e-01,  5.11857595e-01,  1.17032288e-01,\n",
       "        1.23275132e-01, -6.06366770e-01,  1.33705929e-01,  1.04709197e+00,\n",
       "       -7.87065900e-02,  1.06565541e+00,  1.18740029e+00, -6.30955723e-01,\n",
       "       -1.02453639e+00,  4.36278904e-01, -1.45912438e+00, -1.28301263e+00,\n",
       "        9.77731934e-01,  5.32396928e-01, -4.50143914e-02,  1.11283232e+00,\n",
       "        2.64301406e-01, -1.84454496e+00,  2.34494638e+00,  2.39220848e-01,\n",
       "       -9.40790929e-01,  1.77343682e+00,  1.27274376e+00, -6.70305716e-01,\n",
       "        7.02819931e-01,  7.61999640e-01,  1.48815001e-01, -1.24452259e+00,\n",
       "        7.19768273e-01, -1.40029039e+00, -8.24969831e-01,  4.42437468e-01,\n",
       "       -2.23947845e+00,  3.22717482e-01,  1.82158929e+00, -6.52305110e-02,\n",
       "       -7.85331033e-01, -9.07036201e-01,  7.39053443e-01, -5.73117078e-01,\n",
       "       -1.79062756e+00,  2.09755440e-01,  7.81128538e-05,  8.36433713e-01,\n",
       "        1.83974456e-02,  6.27346509e-01, -1.06885716e-01,  5.04848639e-01,\n",
       "        1.97832348e+00,  7.02080461e-02,  8.59084092e-01, -1.69920395e-02,\n",
       "        4.47790765e-01, -9.32387510e-01,  1.34516846e+00,  1.03028343e-01,\n",
       "       -1.31964445e-01,  4.85273964e-01, -2.14940903e-02,  8.73092799e-02,\n",
       "       -9.91009688e-01,  1.24463169e+00, -7.92895756e-01,  1.19149656e+00,\n",
       "        3.58790498e-01,  2.85692432e-01, -9.47010961e-01,  3.54221591e-01,\n",
       "        9.98854874e-01, -3.50279727e-01, -8.52042957e-01,  2.79357728e+00])"
      ]
     },
     "execution_count": 51,
     "metadata": {},
     "output_type": "execute_result"
    }
   ],
   "source": [
    "population"
   ]
  },
  {
   "cell_type": "code",
   "execution_count": 52,
   "id": "e2bcda34",
   "metadata": {},
   "outputs": [
    {
     "data": {
      "text/plain": [
       "<AxesSubplot:ylabel='Density'>"
      ]
     },
     "execution_count": 52,
     "metadata": {},
     "output_type": "execute_result"
    },
    {
     "data": {
      "image/png": "[encoded data removed]",
      "text/plain": [
       "<Figure size 432x288 with 1 Axes>"
      ]
     },
     "metadata": {
      "needs_background": "light"
     },
     "output_type": "display_data"
    }
   ],
   "source": [
    "sns.distplot(population)"
   ]
  },
  {
   "cell_type": "code",
   "execution_count": 53,
   "id": "4b4e577e",
   "metadata": {},
   "outputs": [
    {
     "name": "stdout",
     "output_type": "stream",
     "text": [
      "Mean Of population: 0.07958938218656433, Standard Deviation is: 0.9761291856670482\n"
     ]
    }
   ],
   "source": [
    "print(f\"Mean Of population: {np.mean(population)}, Standard Deviation is: {np.std(population)}\")"
   ]
  },
  {
   "cell_type": "code",
   "execution_count": 54,
   "id": "7c6ba71a",
   "metadata": {},
   "outputs": [],
   "source": [
    "null_mean=0.079"
   ]
  },
  {
   "cell_type": "raw",
   "id": "6d2ee3e5",
   "metadata": {},
   "source": [
    "C.I=95%\n",
    "ALPHA=0.05(5%)"
   ]
  },
  {
   "cell_type": "raw",
   "id": "814b598d",
   "metadata": {},
   "source": [
    "P<=0.05 #Reject the null hypothesis\n",
    "P>0.05 #Accept the null hypothesis"
   ]
  },
  {
   "cell_type": "raw",
   "id": "12495074",
   "metadata": {},
   "source": [
    "P<=ALPHA\n",
    "P>ALPHA"
   ]
  },
  {
   "cell_type": "code",
   "execution_count": 58,
   "id": "faf107c8",
   "metadata": {},
   "outputs": [],
   "source": [
    "p_value=0.05\n",
    "ALPHA=0.05"
   ]
  },
  {
   "cell_type": "code",
   "execution_count": 61,
   "id": "ba2010e0",
   "metadata": {},
   "outputs": [],
   "source": [
    "from statsmodels.stats.weightstats import ztest\n",
    "z_score, p_value = ztest(population,value=null_mean, alternative='larger')"
   ]
  },
  {
   "cell_type": "code",
   "execution_count": 62,
   "id": "88fca4bf",
   "metadata": {},
   "outputs": [
    {
     "data": {
      "text/plain": [
       "0.4976032940270588"
      ]
     },
     "execution_count": 62,
     "metadata": {},
     "output_type": "execute_result"
    }
   ],
   "source": [
    "p_value"
   ]
  },
  {
   "cell_type": "code",
   "execution_count": 63,
   "id": "ad4f3d03",
   "metadata": {},
   "outputs": [
    {
     "name": "stdout",
     "output_type": "stream",
     "text": [
      "We are going to accept the null hypothesis\n"
     ]
    }
   ],
   "source": [
    "if(p_value<ALPHA):\n",
    "    print('Reject the null hypothesis')\n",
    "else:\n",
    "    print(\"We are going to accept the null hypothesis\")"
   ]
  },
  {
   "cell_type": "code",
   "execution_count": null,
   "id": "a11374dd",
   "metadata": {},
   "outputs": [],
   "source": []
  }
 ],
 "metadata": {
  "kernelspec": {
   "display_name": "Python 3 (ipykernel)",
   "language": "python",
   "name": "python3"
  },
  "language_info": {
   "codemirror_mode": {
    "name": "ipython",
    "version": 3
   },
   "file_extension": ".py",
   "mimetype": "text/x-python",
   "name": "python",
   "nbconvert_exporter": "python",
   "pygments_lexer": "ipython3",
   "version": "3.9.12"
  }
 },
 "nbformat": 4,
 "nbformat_minor": 5
}
